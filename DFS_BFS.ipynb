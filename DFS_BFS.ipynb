{
 "cells": [
  {
   "cell_type": "markdown",
   "metadata": {},
   "source": [
    "# DFS/BFS\n",
    "- 탐색 : 많은 양의 데이터 중에서 원하는 데이터를 찾는 과정\n",
    "- 자료구조 : 데이터를 표현하고 관리하고 처리하기 위한 구조\n",
    "    - 삽입(Push) : 데이터를 삽입한다.\n",
    "    - 삭제(Pop) : 데이터를 삭제한다.\n",
    "    \n",
    "\n",
    "## 스택(Stack)\n",
    "- 선입후출(FILO) or 후입선출(LIFO)"
   ]
  },
  {
   "cell_type": "code",
   "execution_count": 1,
   "metadata": {},
   "outputs": [
    {
     "name": "stdout",
     "output_type": "stream",
     "text": [
      "[5, 2, 3, 1]\n",
      "[1, 3, 2, 5]\n"
     ]
    }
   ],
   "source": [
    "stack = []\n",
    "\n",
    "# 삽입(5) - 삽입(2) - 삽입(3) - 삽입(7) - 삭제() - 삽입(1) - 삽입(4) - 삭제()\n",
    "stack.append(5)\n",
    "stack.append(2)\n",
    "stack.append(3)\n",
    "stack.append(7)\n",
    "stack.pop()\n",
    "stack.append(1)\n",
    "stack.append(4)\n",
    "stack.pop()\n",
    "\n",
    "print(stack) # 최하단 원소부터 출력\n",
    "print(stack[::-1]) # 최상단 원소부터 출력"
   ]
  },
  {
   "cell_type": "markdown",
   "metadata": {},
   "source": [
    "## 큐(Queue)\n",
    "- 선입선출(FIFO)"
   ]
  },
  {
   "cell_type": "code",
   "execution_count": 2,
   "metadata": {},
   "outputs": [
    {
     "name": "stdout",
     "output_type": "stream",
     "text": [
      "deque([3, 7, 1, 4])\n",
      "deque([4, 1, 7, 3])\n"
     ]
    }
   ],
   "source": [
    "from collections import deque\n",
    "\n",
    "# 큐(Queue) 구현을 위해 deque 라이브러리 사용\n",
    "queue = deque()\n",
    "\n",
    "# 삽입(5) - 삽입(2) - 삽입(3) - 삽입(7) - 삭제() - 삽입(1) - 삽입(4) - 삭제()\n",
    "queue.append(5)\n",
    "queue.append(2)\n",
    "queue.append(3)\n",
    "queue.append(7)\n",
    "queue.popleft()\n",
    "queue.append(1)\n",
    "queue.append(4)\n",
    "queue.popleft()\n",
    "\n",
    "print(queue) # 먼저 들어온 순서대로 출력\n",
    "queue.reverse() # 다음 출력을 위해 역순으로 바꾸기\n",
    "print(queue) # 나중에 들어온 원소부터 출력"
   ]
  },
  {
   "cell_type": "markdown",
   "metadata": {},
   "source": [
    "## 재귀 함수\n",
    "- 자기 자신을 다시 호출하는 함수"
   ]
  },
  {
   "cell_type": "code",
   "execution_count": null,
   "metadata": {},
   "outputs": [],
   "source": [
    "def recirsive_function():\n",
    "    print('재귀 함수를 호출합니다.')\n",
    "    recursive_function()\n",
    "\n",
    "recursive_function()"
   ]
  },
  {
   "cell_type": "code",
   "execution_count": null,
   "metadata": {},
   "outputs": [],
   "source": [
    "def recursive_function(i):\n",
    "  # 100번쨰 출력핼을 때 종료되도록 종료 조건 명시\n",
    "  if i == 100:\n",
    "    return\n",
    "  print(i, '번째 재귀 함수에서', i + 1, '번째 재귀 함수를 호출합니다.')\n",
    "  recursive_function(i+1)\n",
    "  print(i, '번째 재귀 함수를 종료합니다')\n",
    "\n",
    "recursive_function(1)"
   ]
  },
  {
   "cell_type": "markdown",
   "metadata": {},
   "source": [
    "- 2가지 방식으로 구현한 팩토리얼 예제"
   ]
  },
  {
   "cell_type": "code",
   "execution_count": 1,
   "metadata": {},
   "outputs": [
    {
     "name": "stdout",
     "output_type": "stream",
     "text": [
      "반복적으로 구현: 120\n",
      "재귀적으로 구현: 120\n"
     ]
    }
   ],
   "source": [
    "# 반복적으로 구현한 n!\n",
    "def factorial_iterative(n):\n",
    "  result = 1\n",
    "  # 1부터 n까지의 수를 차례대로 곱하기\n",
    "  for i in range(1, n+1):\n",
    "    result *= i\n",
    "  return result\n",
    "\n",
    "# 재귀적으로 구현한 n!\n",
    "def factorial_recursive(n):\n",
    "  if n <= 1: # n이 1 이하인 경우 1을 반환\n",
    "    return 1\n",
    "  # n! = n * (n-1)!를 그대로 코드로 작성하기\n",
    "  return n * factorial_recursive(n-1)\n",
    "\n",
    "# 각각의 방식으로 구현한 n! 출력(n=5)\n",
    "print('반복적으로 구현:', factorial_iterative(5))\n",
    "print('재귀적으로 구현:', factorial_recursive(5))"
   ]
  },
  {
   "cell_type": "markdown",
   "metadata": {},
   "source": [
    "## 탐색 알고리즘 DFS/BFS\n",
    "### DFS(Depth-First-Search) : 깊이 우선 탐색이라고도 부르며, 그래프에서 깊은 부분을 우선적으로 탐색하는 알고리즘\n",
    "- 스택 자료구조에 기초한다\n",
    "- 인접 행렬(Adjacency Matrix) : 2차원 배열로 그래프의 연결 관계를 표현하는 방식\n",
    "- 인접 리스트(Adjacency List) : 리스트로 그래프의 연결 관계를 표현하는 방식"
   ]
  },
  {
   "cell_type": "code",
   "execution_count": 2,
   "metadata": {},
   "outputs": [
    {
     "name": "stdout",
     "output_type": "stream",
     "text": [
      "[[0, 7, 5], [7, 0, 999999999], [5, 999999999, 0]]\n"
     ]
    }
   ],
   "source": [
    "# 인접 행렬 방식 예제\n",
    "INF = 999999999 # 무한의 비용 선언\n",
    "\n",
    "# 2차원 리스트를 이용해 인접 행렬 표현\n",
    "graph = [\n",
    "    [0, 7, 5],\n",
    "    [7, 0, INF],\n",
    "    [5, INF, 0]\n",
    "]\n",
    "\n",
    "print(graph)"
   ]
  },
  {
   "cell_type": "code",
   "execution_count": 3,
   "metadata": {},
   "outputs": [
    {
     "name": "stdout",
     "output_type": "stream",
     "text": [
      "[[(1, 7), (2, 5)], [(0, 7)], [(0, 5)]]\n"
     ]
    }
   ],
   "source": [
    "# 인접 리스트 방식 예제\n",
    "\n",
    "# 행(Row)이 3개인 2차원 리스트로 인접 리스트 표현\n",
    "graph = [[] for _ in range(3)]\n",
    "\n",
    "# 노드 0에 연결된 노드 정보 저장(노드, 거리)\n",
    "graph[0].append((1,7))\n",
    "graph[0].append((2,5))\n",
    "\n",
    "# 노드 1에 연결된 노드 정보 저장(노드, 거리)\n",
    "graph[1].append((0,7))\n",
    "\n",
    "# 노드 2에 연결된 노드 정보 저장(노드, 거리)\n",
    "graph[2].append((0,5))\n",
    "\n",
    "print(graph)"
   ]
  },
  {
   "cell_type": "markdown",
   "metadata": {},
   "source": [
    "## DFS 예제 ( 1 - 2 - 7 - 6 - 8 - 3 - 4 - 5)"
   ]
  },
  {
   "cell_type": "code",
   "execution_count": 1,
   "metadata": {},
   "outputs": [
    {
     "name": "stdout",
     "output_type": "stream",
     "text": [
      "1 2 7 6 8 3 4 5 "
     ]
    }
   ],
   "source": [
    "# DFS 메서드 정의\n",
    "def dfs(graph, v, visited):\n",
    "    # 현재 노드를 방문 처리\n",
    "    visited[v] = True\n",
    "    print(v, end=' ')\n",
    "    # 현재 노드와 연결된 다른 노드를 재귀적으로 방문\n",
    "    for i in graph[v]:\n",
    "      if not visited[i]:\n",
    "        dfs(graph, i, visited)\n",
    "    \n",
    "# 각 노드가 연결된 정보를 리스트 자료형으로 표현(2차원 리스트)\n",
    "graph = [\n",
    "  [],\n",
    "  [2, 3, 8],\n",
    "  [1, 7],\n",
    "  [1, 4, 5],\n",
    "  [3, 5],\n",
    "  [3, 4],\n",
    "  [7],\n",
    "  [2, 6, 8],\n",
    "  [1, 7]\n",
    "]\n",
    "\n",
    "# 각 노드가 방문된 정보를 리스트 자료형으로 표현(1차원 리스트)\n",
    "visited = [False] * 9\n",
    "\n",
    "# 정의된 DFS 함수 호출\n",
    "dfs(graph, 1, visited)"
   ]
  },
  {
   "cell_type": "markdown",
   "metadata": {},
   "source": [
    "### BFS(Breadth First Search) : 너비우선 탐색, 가까운 노드부터 탐색하는 알고리즘\n",
    "- BFS구현에서는 선입선출 방식인 큐 자료구조를 이용하는 것이 정석\n",
    "- deque 라이브러리 사용\n",
    "- 실제 수행시간은 DFS보다 좋은편"
   ]
  },
  {
   "cell_type": "code",
   "execution_count": 2,
   "metadata": {},
   "outputs": [
    {
     "name": "stdout",
     "output_type": "stream",
     "text": [
      "1 2 3 8 7 4 5 6 "
     ]
    }
   ],
   "source": [
    "from collections import deque\n",
    "\n",
    "# BFS 메서드 정의\n",
    "def bfs(graph, start, visited):\n",
    "  # 큐(Queue) 구현을 위해 deque 라이브러리 사용\n",
    "  queue = deque([start])\n",
    "  # 현재 노드를 방문처리\n",
    "  visited[start] = True\n",
    "  # 큐가 빌 때까지 반복\n",
    "  while queue:\n",
    "    # 큐에서 하나의 원소를 하나 뽑아 출력\n",
    "    v = queue.popleft()\n",
    "    print(v, end=' ')\n",
    "    # 해당 원소와 연결된, 아직 방문하지 않은 원소들을 큐에 삽입\n",
    "    for i in graph[v]:\n",
    "      if not visited[i]:\n",
    "        queue.append(i)\n",
    "        visited[i] = True\n",
    "      \n",
    "# 각 노드가 연결된 정보를 리스트 자료형으로 표현(2차원 리스트)\n",
    "graph = [\n",
    "  [],\n",
    "  [2, 3, 8],\n",
    "  [1, 7],\n",
    "  [1, 4, 5],\n",
    "  [3, 5],\n",
    "  [3, 4],\n",
    "  [7],\n",
    "  [2, 6, 8],\n",
    "  [1, 7]\n",
    "]\n",
    "\n",
    "# 각 노드가 방문된 정보를 리스트 자료형으로 표현(1차원 리스트)\n",
    "visited = [False] * 9\n",
    "\n",
    "# 정의된 DFS 함수 호출\n",
    "bfs(graph, 1, visited)"
   ]
  },
  {
   "cell_type": "markdown",
   "metadata": {},
   "source": [
    "## DFS/BFS 비교\n",
    "|          \t|       DFS      \t|        BFS       \t|\n",
    "|:--------:\t|:--------------:\t|:----------------:\t|\n",
    "| 동작원리 \t|      스택      \t|        큐        \t|\n",
    "| 구현방법 \t| 재귀 함수 이용 \t| 큐 자료구조 이용 \t|"
   ]
  },
  {
   "cell_type": "markdown",
   "metadata": {},
   "source": [
    "## 5-10) 음료수 얼려먹기"
   ]
  },
  {
   "cell_type": "code",
   "execution_count": 8,
   "metadata": {},
   "outputs": [
    {
     "name": "stdout",
     "output_type": "stream",
     "text": [
      "3 3\n",
      "001\n",
      "010\n",
      "101\n",
      "3\n"
     ]
    }
   ],
   "source": [
    "# N, M을 공백을 기준으로 구분하여 입력 받기\n",
    "n, m = map(int, input().split())\n",
    "\n",
    "# 2차원 리스트의 맵 정보 입력 받기\n",
    "graph = []\n",
    "for i in range(n):\n",
    "    graph.append(list(map(int, input())))\n",
    "\n",
    "# DFS로 특정한 노드를 방문한 뒤에 연결된 모든 노드들도 방문\n",
    "def dfs(x, y):\n",
    "    # 주어진 범위를 벗어나는 경우에는 즉시 종료\n",
    "    if x <= -1 or x >= n or y <= -1 or y >= m:\n",
    "        return False\n",
    "    # 현재 노드를 아직 방문하지 않았다면\n",
    "    if graph[x][y] == 0:\n",
    "        # 해당 노드 방문 처리\n",
    "        graph[x][y] = 1\n",
    "        # 상, 하, 좌, 우의 위치들도 모두 재귀적으로 호출\n",
    "        dfs(x - 1, y)\n",
    "        dfs(x, y - 1)\n",
    "        dfs(x + 1, y)\n",
    "        dfs(x, y + 1)\n",
    "        return True\n",
    "    return False\n",
    "\n",
    "# 모든 노드(위치)에 대하여 음료수 채우기\n",
    "result = 0\n",
    "for i in range(n):\n",
    "    for j in range(m):\n",
    "        # 현재 위치에서 DFS 수행\n",
    "        if dfs(i, j) == True:\n",
    "            result += 1\n",
    "\n",
    "print(result) # 정답 출력"
   ]
  },
  {
   "cell_type": "markdown",
   "metadata": {},
   "source": [
    "## 5-11) 미로 탈출"
   ]
  },
  {
   "cell_type": "code",
   "execution_count": 9,
   "metadata": {},
   "outputs": [
    {
     "name": "stdout",
     "output_type": "stream",
     "text": [
      "5 6\n",
      "101010\n",
      "111111\n",
      "000001\n",
      "111111\n",
      "111111\n",
      "10\n"
     ]
    }
   ],
   "source": [
    "from collections import deque\n",
    "\n",
    "# N, M을 공백을 기준으로 구분하여 입력 받기\n",
    "n, m = map(int, input().split())\n",
    "# 2차원 리스트의 맵 정보 입력 받기\n",
    "graph = []\n",
    "for i in range(n):\n",
    "    graph.append(list(map(int, input())))\n",
    "\n",
    "# 이동할 네 가지 방향 정의 (상, 하, 좌, 우)\n",
    "dx = [-1, 1, 0, 0]\n",
    "dy = [0, 0, -1, 1]\n",
    "\n",
    "# BFS 소스코드 구현\n",
    "def bfs(x, y):\n",
    "    # 큐(Queue) 구현을 위해 deque 라이브러리 사용\n",
    "    queue = deque()\n",
    "    queue.append((x, y))\n",
    "    # 큐가 빌 때까지 반복하기\n",
    "    while queue:\n",
    "        x, y = queue.popleft()\n",
    "        # 현재 위치에서 4가지 방향으로의 위치 확인\n",
    "        for i in range(4):\n",
    "            nx = x + dx[i]\n",
    "            ny = y + dy[i]\n",
    "            # 미로 찾기 공간을 벗어난 경우 무시\n",
    "            if nx < 0 or nx >= n or ny < 0 or ny >= m:\n",
    "                continue\n",
    "            # 벽인 경우 무시\n",
    "            if graph[nx][ny] == 0:\n",
    "                continue\n",
    "            # 해당 노드를 처음 방문하는 경우에만 최단 거리 기록\n",
    "            if graph[nx][ny] == 1:\n",
    "                graph[nx][ny] = graph[x][y] + 1\n",
    "                queue.append((nx, ny))\n",
    "    # 가장 오른쪽 아래까지의 최단 거리 반환\n",
    "    return graph[n - 1][m - 1]\n",
    "\n",
    "# BFS를 수행한 결과 출력\n",
    "print(bfs(0, 0))"
   ]
  }
 ],
 "metadata": {
  "kernelspec": {
   "display_name": "Python 3",
   "language": "python",
   "name": "python3"
  },
  "language_info": {
   "codemirror_mode": {
    "name": "ipython",
    "version": 3
   },
   "file_extension": ".py",
   "mimetype": "text/x-python",
   "name": "python",
   "nbconvert_exporter": "python",
   "pygments_lexer": "ipython3",
   "version": "3.8.3"
  }
 },
 "nbformat": 4,
 "nbformat_minor": 4
}
